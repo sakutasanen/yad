{
 "cells": [
  {
   "attachments": {},
   "cell_type": "markdown",
   "metadata": {},
   "source": [
    "# Backpropagation\n",
    "\n",
    "Chain Rule\n",
    "\n",
    "$$\n",
    "\\begin{align}\n",
    "\\frac{d}{dx} f(g(x)) & = f'(g(x)) \\cdot g'(x) & = \\frac{d}{dg} f(g(x)) \\frac{d}{dx} g(x) & = \\frac{df}{dg} \\frac{dg}{dx}\n",
    "\\end{align}\n",
    "$$\n",
    "\n",
    "Assuming we have the following expression:\n",
    "\n",
    "$$\n",
    "f(g(x)) = (2x + 1)^2\n",
    "$$\n",
    "\n",
    "where\n",
    "$$\n",
    "f(x) = x^2 \\quad g(x) = 2x + 1\n",
    "$$\n",
    "\n",
    "derivatives\n",
    "$$\n",
    "f'(x) = 2x \\quad g'(x) = 2\n",
    "$$\n",
    "\n",
    "now using chain rule:\n",
    "$$\n",
    "f'()\n",
    "$$"
   ]
  },
  {
   "cell_type": "code",
   "execution_count": 5,
   "metadata": {},
   "outputs": [
    {
     "name": "stdout",
     "output_type": "stream",
     "text": [
      "x=Tensor(data=1.0, grad=4.0, requires_grad=True) y=Tensor(data=4.0, grad=1.0, requires_grad=True)\n"
     ]
    }
   ],
   "source": [
    "\n",
    "import yad\n",
    "\n",
    "x = yad.Tensor(1.0, requires_grad=True)\n",
    "\n",
    "y1 = 2*x + 1\n",
    "y  = y1**2\n",
    "\n",
    "y.backward()\n",
    "\n",
    "print(f'x={x} y={y}')"
   ]
  }
 ],
 "metadata": {
  "kernelspec": {
   "display_name": "venv",
   "language": "python",
   "name": "python3"
  },
  "language_info": {
   "codemirror_mode": {
    "name": "ipython",
    "version": 3
   },
   "file_extension": ".py",
   "mimetype": "text/x-python",
   "name": "python",
   "nbconvert_exporter": "python",
   "pygments_lexer": "ipython3",
   "version": "3.8.6"
  },
  "orig_nbformat": 4
 },
 "nbformat": 4,
 "nbformat_minor": 2
}
