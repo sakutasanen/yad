{
 "cells": [
  {
   "attachments": {},
   "cell_type": "markdown",
   "metadata": {},
   "source": [
    "# Backpropagation\n",
    "\n",
    "Chain Rule\n",
    "\n",
    "$$\n",
    "\\begin{align*}\n",
    "\\frac{d}{dx} f(g(x)) & = f'(g(x)) \\cdot g'(x) \\\\\n",
    "                     & = \\frac{d}{dg} f(g(x)) \\frac{d}{dx} g(x) \\\\\n",
    "                     & = \\frac{df}{dg} \\frac{dg}{dx} \\\\\n",
    "\\end{align*}\n",
    "$$\n",
    "\n",
    "This can be extended:\n",
    "$$\n",
    "\\frac{d}{dx} f(g(h(x))) = \\frac{df}{dg} \\frac{dg}{dh} \\frac{dh}{dx}\n",
    "$$\n",
    "\n",
    "Assuming we have the following expression:\n",
    "\n",
    "$$\n",
    "f(h(g(x))) = (2x + 1)^2\n",
    "$$\n",
    "\n",
    "where:\n",
    "$$\n",
    "f(x) = x^2 \\quad g(x) = x + 1 \\quad h(x) = 2x\n",
    "$$\n",
    "\n",
    "derivatives:\n",
    "$$\n",
    "f'(x) = 2x \\quad g'(x) = 1 \\quad h'(x) = 2\n",
    "$$\n",
    "\n",
    "now using chain rule:\n",
    "$$\n",
    "\\begin{align*}\n",
    "\\frac{df}{dg} &= f'(g(h(x))) = 2 \\cdot (2x + 1) \\\\\n",
    "\\frac{dg}{dh} &= g'(h(x))    = 1 \\\\\n",
    "\\frac{dh}{dx} &= h'(x)       = 2 \\\\\n",
    "\\end{align*}\n",
    "$$\n",
    "\n",
    "$$\n",
    "\\frac{df}{dg} \\frac{dg}{dh} \\frac{dh}{dx} = 2 \\cdot (2x + 1) \\cdot 1 \\cdot 2 = 8x + 4\n",
    "$$\n",
    "\n",
    "Now compute derivative at $x=1$. Forward pass:\n",
    "$$\n",
    "\\begin{align*}\n",
    "h(1)       &= 2 \\\\\n",
    "g(h(1))    &= 3 \\\\\n",
    "f(g(h(1))) &= 9 \\\\\n",
    "\\end{align*}\n",
    "$$\n",
    "\n",
    "Backward (backpropagation):\n",
    "\n",
    "$$\n",
    "\\begin{align*}\n",
    "\\frac{df}{dg}                             &= f'(g(h(1))                            &= f'(3) = 6 \\\\\n",
    "\\frac{df}{dg} \\frac{dg}{dh}               &= f'(g(h(1)) \\cdot g'(h(1))             &= 6 \\cdot g'(2) = 6 \\\\\n",
    "\\frac{df}{dg} \\frac{dg}{dh} \\frac{dh}{dx} &= f'(g(h(1)) \\cdot g'(h(1)) \\cdot h'(1) &= 6 \\cdot h'(1) = 12 \\\\\n",
    "\\end{align*}\n",
    "$$\n",
    "\n"
   ]
  },
  {
   "cell_type": "code",
   "execution_count": 12,
   "metadata": {},
   "outputs": [
    {
     "name": "stdout",
     "output_type": "stream",
     "text": [
      "x = Tensor(data=1.0, grad=12.0, requires_grad=True)\n",
      "h = Tensor(data=2.0, grad=6.0, requires_grad=True)\n",
      "g = Tensor(data=3.0, grad=6.0, requires_grad=True)\n",
      "f = Tensor(data=9.0, grad=1.0, requires_grad=True)\n"
     ]
    }
   ],
   "source": [
    "\n",
    "import yad\n",
    "\n",
    "x = yad.Tensor(1.0, requires_grad=True)\n",
    "\n",
    "h = 2*x\n",
    "g = h + 1\n",
    "f  = g**2\n",
    "\n",
    "f.backward()\n",
    "\n",
    "print(f'x = {x}')\n",
    "print(f'h = {h}')\n",
    "print(f'g = {g}')\n",
    "print(f'f = {f}')"
   ]
  }
 ],
 "metadata": {
  "kernelspec": {
   "display_name": "venv",
   "language": "python",
   "name": "python3"
  },
  "language_info": {
   "codemirror_mode": {
    "name": "ipython",
    "version": 3
   },
   "file_extension": ".py",
   "mimetype": "text/x-python",
   "name": "python",
   "nbconvert_exporter": "python",
   "pygments_lexer": "ipython3",
   "version": "3.8.6"
  },
  "orig_nbformat": 4
 },
 "nbformat": 4,
 "nbformat_minor": 2
}
